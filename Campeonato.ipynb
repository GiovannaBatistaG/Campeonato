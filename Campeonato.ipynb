{
 "cells": [
  {
   "cell_type": "code",
   "execution_count": null,
   "id": "c8190a70",
   "metadata": {},
   "outputs": [
    {
     "name": "stdout",
     "output_type": "stream",
     "text": [
      "Vamos começar o Campeonato de Tênis!\n",
      "Primeiro vamos começar pelo Cadastro dos times e Jogadores!\n"
     ]
    }
   ],
   "source": [
    "print('Vamos começar o Campeonato de Tênis!')\n",
    "print('Primeiro vamos começar pelo Cadastro dos times e Jogadores!')\n",
    "\n",
    "def cadastrar_times():\n",
    "    times = []\n",
    "    while len(times) < 4:\n",
    "        nome_time = input(f\"Digite o nome do Time\\n(ou 'fim' para encerrar): \")\n",
    "        if nome_time.lower() == \"fim\":\n",
    "            break\n",
    "\n",
    "        jogadores = []\n",
    "        nomes_jogadores = []\n",
    "\n",
    "        while len(jogadores) < 4:\n",
    "            nome_jogador = input(f\"Digite o nome do jogador {len(jogadores) + 1}: \")\n",
    "            if nome_jogador in nomes_jogadores:\n",
    "                print(\"Jogador já cadastrado neste time.\\Tente outro nome.\")\n",
    "                continue\n",
    "\n",
    "            posicao = input(f\"Digite a posição do jogador {len(jogadores) + 1}: \")\n",
    "            jogador = (nome_jogador, posicao)\n",
    "            jogadores.append(jogador)\n",
    "            nomes_jogadores.append(nome_jogador)\n",
    "\n",
    "        time = {\n",
    "            'nome': nome_time,\n",
    "            'jogadores': jogadores,\n",
    "            'pontuacao': 0\n",
    "        }\n",
    "\n",
    "        times.append(time)\n",
    "\n",
    "    return times\n",
    "\n",
    "def realizar_confronto(time1, time2):\n",
    "    print(f\"\\nConfronto entre {time1['nome']} vs {time2['nome']}\")\n",
    "    p1 = int(input(f\"Digite a pontuação de {time1['nome']}: \"))\n",
    "    p2 = int(input(f\"Digite a pontuação de {time2['nome']}: \"))\n",
    "    time1['pontuacao'] += p1\n",
    "    time2['pontuacao'] += p2\n",
    "    if p1 > p2:\n",
    "        return time1\n",
    "    elif p2 > p1:\n",
    "        return time2\n",
    "    else:\n",
    "        print(\"Empate! O confronto será repetido.\")\n",
    "        return realizar_confronto(time1, time2)\n",
    "\n",
    "def campeonato(times):\n",
    "    rodada = 1\n",
    "    while len(times) > 1:\n",
    "        print(f\"\\n Iniciando a Rodada {rodada}\")\n",
    "        vencedores = []\n",
    "        i = 0\n",
    "        while i < len(times) - 1:\n",
    "            time1 = times[i]\n",
    "            time2 = times[i + 1]\n",
    "            vencedor = realizar_confronto(time1, time2)\n",
    "            vencedores.append(vencedor)\n",
    "            i += 2\n",
    "        if len(times) % 2 != 0:\n",
    "            print(f\"{times[-1]['nome']} avançou automaticamente!\")\n",
    "            vencedores.append(times[-1])\n",
    "        times = vencedores\n",
    "        rodada += 1\n",
    "\n",
    "    campeao = times[0]\n",
    "    print(f\"\\nO campeão do torneio é {campeao['nome']} com {campeao['pontuacao']} pontos!\")\n",
    "\n",
    "times_cadastrados = cadastrar_times()\n",
    "if len(times_cadastrados) < 2:\n",
    "    print(\"É necessário pelo menos 2 times para iniciar o campeonato.\")\n",
    "else:\n",
    "    campeonato(times_cadastrados)\n"
   ]
  }
 ],
 "metadata": {
  "kernelspec": {
   "display_name": "Python 3",
   "language": "python",
   "name": "python3"
  },
  "language_info": {
   "codemirror_mode": {
    "name": "ipython",
    "version": 3
   },
   "file_extension": ".py",
   "mimetype": "text/x-python",
   "name": "python",
   "nbconvert_exporter": "python",
   "pygments_lexer": "ipython3",
   "version": "3.11.9"
  }
 },
 "nbformat": 4,
 "nbformat_minor": 5
}
